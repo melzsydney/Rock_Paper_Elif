{
 "metadata": {
  "language_info": {
   "codemirror_mode": {
    "name": "ipython",
    "version": 3
   },
   "file_extension": ".py",
   "mimetype": "text/x-python",
   "name": "python",
   "nbconvert_exporter": "python",
   "pygments_lexer": "ipython3",
   "version": 3
  },
  "orig_nbformat": 2
 },
 "nbformat": 4,
 "nbformat_minor": 2,
 "cells": [
  {
   "cell_type": "code",
   "execution_count": null,
   "metadata": {},
   "outputs": [],
   "source": [
    "rock = '''\n",
    "    _______\n",
    "---'   ____)\n",
    "      (_____)\n",
    "      (_____)\n",
    "      (____)\n",
    "---.__(___)\n",
    "'''\n",
    "\n",
    "paper = '''\n",
    "    _______\n",
    "---'   ____)____\n",
    "          ______)\n",
    "          _______)\n",
    "         _______)\n",
    "---.__________)\n",
    "'''\n",
    "\n",
    "scissors = '''\n",
    "    _______\n",
    "---'   ____)____\n",
    "          ______)\n",
    "       __________)\n",
    "      (____)\n",
    "---.__(___)\n",
    "'''\n",
    "import random\n",
    "game_images = [rock, paper, scissors]\n",
    "user_choice = int(input('What do you choose? Type 0 for Rock, 1 for Paper or 2 for Scissors.\\n\"'))\n",
    "\n",
    "print(game_images[user_choice])\n",
    "computer_choice = random.randint(0,2)\n",
    "print(\"Computer chose:\")\n",
    "print(game_images[computer_choice])\n",
    "\n",
    "if user_choice == 2 and computer_choice == 0:\n",
    "  print('you win')\n",
    "elif user_choice == 0 and computer_choice == 2:\n",
    "  print('you lose')\n",
    "elif user_choice > computer_choice:\n",
    "  print('you winnn')\n",
    "elif user_choice < computer_choice:\n",
    "  print('you lost')\n",
    "elif user_choice == computer_choice:\n",
    "  print('draw')\n",
    "else:\n",
    "  print('weird')      "
   ]
  }
 ]
}